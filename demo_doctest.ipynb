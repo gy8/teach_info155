{
 "metadata": {
  "name": "",
  "signature": "sha256:c5178a2a9df523cf15536301227ff6761c52f53133facfb695b4f7558f42888b"
 },
 "nbformat": 3,
 "nbformat_minor": 0,
 "worksheets": [
  {
   "cells": [
    {
     "cell_type": "markdown",
     "metadata": {},
     "source": [
      "This short tutorial shows you how to develop better with the built-in doctest"
     ]
    },
    {
     "cell_type": "markdown",
     "metadata": {},
     "source": [
      "Let's start with making a function that finds the factorial of a given number (we'll do it recursively):"
     ]
    },
    {
     "cell_type": "code",
     "collapsed": false,
     "input": [
      "def my_factorial(num):\n",
      "    if num in (0,1):\n",
      "        return 1\n",
      "    else:\n",
      "        return num * my_factorial(num-1)"
     ],
     "language": "python",
     "metadata": {},
     "outputs": [],
     "prompt_number": 1
    },
    {
     "cell_type": "markdown",
     "metadata": {},
     "source": [
      "But how do we know if it's correct? Let's plug something in:"
     ]
    },
    {
     "cell_type": "code",
     "collapsed": false,
     "input": [
      "my_factorial(4)"
     ],
     "language": "python",
     "metadata": {},
     "outputs": [
      {
       "metadata": {},
       "output_type": "pyout",
       "prompt_number": 3,
       "text": [
        "24"
       ]
      }
     ],
     "prompt_number": 3
    },
    {
     "cell_type": "markdown",
     "metadata": {},
     "source": [
      "How about something else?"
     ]
    },
    {
     "cell_type": "code",
     "collapsed": false,
     "input": [
      "my_factorial(0)"
     ],
     "language": "python",
     "metadata": {},
     "outputs": [
      {
       "metadata": {},
       "output_type": "pyout",
       "prompt_number": 4,
       "text": [
        "1"
       ]
      }
     ],
     "prompt_number": 4
    },
    {
     "cell_type": "markdown",
     "metadata": {},
     "source": [
      "But what if you need to go back and change something in the function? After changing it how do you know it still runs as it should?"
     ]
    },
    {
     "cell_type": "markdown",
     "metadata": {},
     "source": [
      "**Introducing the doctest**: put testing cases right into the docstring of a function!"
     ]
    },
    {
     "cell_type": "markdown",
     "metadata": {},
     "source": [
      "Let's say we want to bake the two tests above into the docstring, here's how we would do it:"
     ]
    },
    {
     "cell_type": "code",
     "collapsed": false,
     "input": [
      "def my_factorial(num):\n",
      "    \"\"\" computes the factorial of a given nonnegative integer\n",
      "    \n",
      "    Example:\n",
      "    \n",
      "    >>> my_factorial(4)\n",
      "    24\n",
      "    >>> my_factorial(0)\n",
      "    1\n",
      "    \"\"\"\n",
      "    \n",
      "    if num in (0,1):\n",
      "        return 1\n",
      "    else:\n",
      "        return num * my_factorial(num-1)"
     ],
     "language": "python",
     "metadata": {},
     "outputs": [],
     "prompt_number": 6
    },
    {
     "cell_type": "markdown",
     "metadata": {},
     "source": [
      "Cool. Now how do we actually run the test?"
     ]
    }
   ],
   "metadata": {}
  }
 ]
}